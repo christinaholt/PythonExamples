{
 "cells": [
  {
   "cell_type": "markdown",
   "metadata": {},
   "source": [
    "# Intro to Jupyter Notebook\n",
    "\n",
    "The information included here follows these webpages: https://realpython.com/jupyter-notebook-introduction/, https://medium.com/ibm-data-science-experience/back-to-basics-jupyter-notebooks-dfcdc19c54bc\n",
    "\n",
    "## About this Notebook\n",
    "\n",
    "### Requirements\n",
    "- Direct access to the input data\n",
    "- Jupyter notebook installed on that platform\n",
    "- Python packages:\n",
    "    - Numpy\n",
    "    - Matplotlib\n",
    "    \n",
    "### Modes\n",
    "- The cells are either Python 3 code (next cell), or Markdown (this cell). \n",
    "- Modes can be in either of two modes:\n",
    "    - `EDIT`, which appears green\n",
    "    - `COMMAND`, which appears blue\n",
    "- To enter enter `EDIT` mode, hit `Enter` or double click\n",
    "- To enter `COMMAND` mode, hit `Esc` or click anywhere outside the box\n",
    "\n",
    "### Navigation\n",
    "The menus at the top of the page allow you to control the cells, run them, and manage the file. \n",
    "\n",
    "### Keyboard commands\n",
    "Many of the above navigation menus have keyboard shortcuts:\n",
    "\n",
    "- Command Mode: ESC\n",
    "- Edit Mode: ENTER\n",
    "- Run selected cell: CTRL+ENTER\n",
    "- Run cell and insert below: ALT+ENTER\n",
    "- Run cell and select below: SHIFT+ENTER\n",
    "\n",
    "From COMMAND mode:\n",
    "- Insert cell above: A\n",
    "- Insert cell below: B\n",
    "- Cut selected cells: X\n",
    "- Copy selected cells: C\n",
    "- Delete selected cell : d+d\n",
    "\n",
    "## Run the notebook\n",
    "\n",
    "To run the whole notebook, use the menu: `Kernel > Restart & Run All`, or click the \"Fast forward\" button on the top menu bar.\n",
    "\n",
    "To run (or rerun) a single cell, click on the cell and press `Shift, Enter`, or click the \"Run\" button on the top menu bar.\n",
    "    "
   ]
  },
  {
   "cell_type": "code",
   "execution_count": null,
   "metadata": {},
   "outputs": [],
   "source": [
    "import numpy as np\n",
    "import matplotlib.pyplot as plt"
   ]
  },
  {
   "cell_type": "markdown",
   "metadata": {},
   "source": [
    "# Matplotlib Example\n",
    "\n",
    "This example is taken directly from https://matplotlib.org/tutorials/introductory/sample_plots.html"
   ]
  },
  {
   "cell_type": "code",
   "execution_count": null,
   "metadata": {},
   "outputs": [],
   "source": [
    "np.random.seed(19680801)\n",
    "data = np.random.randn(2, 100)\n",
    "\n",
    "\n",
    "fig, axs = plt.subplots(2, 2, figsize=(10, 10))\n",
    "axs[0, 0].hist(data[0])\n",
    "axs[1, 0].scatter(data[0], data[1])\n",
    "axs[0, 1].plot(data[0], data[1])\n",
    "axs[1, 1].hist2d(data[0], data[1])"
   ]
  },
  {
   "cell_type": "markdown",
   "metadata": {},
   "source": [
    "# Some other useful commands for matplotlib"
   ]
  },
  {
   "cell_type": "markdown",
   "metadata": {},
   "source": [
    "\n",
    "# XKCD Style\n",
    "```\n",
    "plt.xkcd(scale=1, length=100, randomness=2)\n",
    "```\n",
    "\n",
    "# Titles\n",
    "\n",
    "```\n",
    "fig.suptitle('Main title');\n",
    "\n",
    "axs[0,0].set_title('My Sub Title');\n",
    "```\n",
    "\n",
    "# Axis labels\n",
    "\n",
    "```\n",
    "axs[0, 0].set(xlabel='Spread', ylabel='Counts');\n",
    "```\n",
    "\n",
    "# Colorbar\n",
    "```\n",
    "fig.colorbar(h[3], ax=axs[1, 1], orientation='horizontal', shrink=0.75);\n",
    "```\n",
    "\n",
    "# Line styles\n",
    "\n",
    "```\n",
    "axs[0, 0].hist(data[0], color=\"xkcd:pink\")\n",
    "axs[1, 0].scatter(data[0], data[1], marker='*', linewidth=2, s=190)\n",
    "axs[0, 1].plot(data[0], data[1], linewidth=7, color=\"xkcd:pea green\")\n",
    "```\n"
   ]
  },
  {
   "cell_type": "code",
   "execution_count": null,
   "metadata": {},
   "outputs": [],
   "source": []
  }
 ],
 "metadata": {
  "kernelspec": {
   "display_name": "Python 3",
   "language": "python",
   "name": "python3"
  },
  "language_info": {
   "codemirror_mode": {
    "name": "ipython",
    "version": 3
   },
   "file_extension": ".py",
   "mimetype": "text/x-python",
   "name": "python",
   "nbconvert_exporter": "python",
   "pygments_lexer": "ipython3",
   "version": "3.7.3"
  }
 },
 "nbformat": 4,
 "nbformat_minor": 2
}
